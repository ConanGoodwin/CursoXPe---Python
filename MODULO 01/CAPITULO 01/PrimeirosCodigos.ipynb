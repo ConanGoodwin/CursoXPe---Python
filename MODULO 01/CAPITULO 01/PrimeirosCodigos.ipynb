{
  "nbformat": 4,
  "nbformat_minor": 0,
  "metadata": {
    "colab": {
      "provenance": [],
      "authorship_tag": "ABX9TyN1NE528zmxLEXaEq3pRHn/",
      "include_colab_link": true
    },
    "kernelspec": {
      "name": "python3",
      "display_name": "Python 3"
    },
    "language_info": {
      "name": "python"
    }
  },
  "cells": [
    {
      "cell_type": "markdown",
      "metadata": {
        "id": "view-in-github",
        "colab_type": "text"
      },
      "source": [
        "<a href=\"https://colab.research.google.com/github/ConanGoodwin/CursoXPe---Python/blob/Md01%2FCapitulo01/PrimeirosCodigos.ipynb\" target=\"_parent\"><img src=\"https://colab.research.google.com/assets/colab-badge.svg\" alt=\"Open In Colab\"/></a>"
      ]
    },
    {
      "cell_type": "code",
      "execution_count": 2,
      "metadata": {
        "colab": {
          "base_uri": "https://localhost:8080/"
        },
        "id": "0vOJi1jGGNHL",
        "outputId": "89fb7b82-0f0f-47b8-d964-7364e57dd332"
      },
      "outputs": [
        {
          "output_type": "stream",
          "name": "stdout",
          "text": [
            "Olá Antonio Carlos seja bem-vindo!\n"
          ]
        }
      ],
      "source": [
        "nome=\"Antonio Carlos\"\n",
        "print(\"Olá\", nome, \"seja bem-vindo!\")"
      ]
    }
  ]
}